{
  "cells": [
    {
      "cell_type": "code",
      "execution_count": null,
      "metadata": {
        "id": "Jj4QnRaI5V0f"
      },
      "outputs": [],
      "source": [
        "import pandas as pd\n",
        "import os\n",
        "from enum import Enum\n",
        "import json\n",
        "from tqdm import tqdm\n",
        "import math\n",
        "\n",
        "import numpy as np\n",
        "import matplotlib.pyplot as plt\n",
        "from matplotlib.animation import FuncAnimation\n",
        "\n",
        "import torch"
      ]
    },
    {
      "cell_type": "code",
      "execution_count": null,
      "metadata": {
        "colab": {
          "base_uri": "https://localhost:8080/"
        },
        "id": "NJQOz3cq6jYm",
        "outputId": "210c748a-c06a-4d5f-8091-432983d2182c"
      },
      "outputs": [],
      "source": [
        "!pip install ultralytics"
      ]
    },
    {
      "cell_type": "code",
      "execution_count": null,
      "metadata": {
        "id": "8Q51sSGY6iuU"
      },
      "outputs": [],
      "source": [
        "from ultralytics import YOLO"
      ]
    },
    {
      "cell_type": "code",
      "execution_count": null,
      "metadata": {
        "colab": {
          "base_uri": "https://localhost:8080/"
        },
        "id": "TjGGa5jkGXDp",
        "outputId": "97f8518d-e270-476d-b980-e0bf33bc67dc"
      },
      "outputs": [],
      "source": [
        "data_yaml_path = os.path.join('/', '...', 'data.yaml')# change here\n",
        "os.path.exists(data_yaml_path)"
      ]
    },
    {
      "cell_type": "code",
      "execution_count": null,
      "metadata": {
        "colab": {
          "base_uri": "https://localhost:8080/"
        },
        "id": "ozPLQ35-_pFl",
        "outputId": "e851e061-d43f-4dbd-f863-18e6b5cffe9f"
      },
      "outputs": [],
      "source": [
        "model = YOLO()"
      ]
    },
    {
      "cell_type": "code",
      "execution_count": null,
      "metadata": {
        "colab": {
          "base_uri": "https://localhost:8080/"
        },
        "id": "X9QI34FZF5sI",
        "outputId": "a81cf59f-be13-44c7-d551-e3b0b4ed078b"
      },
      "outputs": [],
      "source": [
        "model.train(data=data_yaml_path, epochs=10)"
      ]
    },
    {
      "cell_type": "code",
      "execution_count": null,
      "metadata": {
        "colab": {
          "base_uri": "https://localhost:8080/"
        },
        "id": "SEIWGXC3USpq",
        "outputId": "e716b4e0-e73a-4a12-a3aa-e86ca4e0233c"
      },
      "outputs": [],
      "source": [
        "best_seg_weights = os.path.join('/', '...', 'best.pt')\n",
        "model = YOLO(best_seg_weights)\n",
        "results = model.val()"
      ]
    }
  ],
  "metadata": {
    "colab": {
      "provenance": []
    },
    "kernelspec": {
      "display_name": "Python 3",
      "name": "python3"
    },
    "language_info": {
      "name": "python"
    }
  },
  "nbformat": 4,
  "nbformat_minor": 0
}
